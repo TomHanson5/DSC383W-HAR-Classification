{
 "cells": [
  {
   "cell_type": "code",
   "execution_count": 1,
   "metadata": {},
   "outputs": [],
   "source": [
    "import torch\n",
    "import torch.nn as nn\n",
    "import torch.nn.functional as F\n",
    "import pandas as pd\n",
    "import numpy as np\n",
    "import matplotlib.pyplot as plt\n",
    "import matplotlib.ticker as ticker\n",
    "from sklearn.model_selection import train_test_split"
   ]
  },
  {
   "cell_type": "code",
   "execution_count": 11,
   "metadata": {},
   "outputs": [],
   "source": [
    "data = pd.read_csv('./DataSet_HAR.csv')\n",
    "y = data.values[:, 562]\n",
    "X = data.values[:, 0:561].astype('float16')\n",
    "realLabels = {'STANDING':0, 'WALKING':1, 'SITTING':2, 'LAYING':3, 'WALKING_UPSTAIRS':4, 'WALKING_DOWNSTAIRS':5}\n",
    "Labels = ['STANDING', 'WALKING', 'SITTING', 'LAYING', 'WALKING_UPSTAIRS', 'WALKING_DOWNSTAIRS']\n",
    "\n",
    "for i in range(len(y)):\n",
    "    y[i] = realLabels[y[i]]\n",
    "y = y.astype('float16')\n",
    "\n",
    "X_train, X_test, y_train, y_test = train_test_split(X, y, test_size=0.2)\n",
    "\n",
    "X_train = torch.tensor(X_train, dtype = torch.float)\n",
    "X_test = torch.tensor(X_test, dtype = torch.float)\n",
    "y_train = torch.tensor(y_train, dtype = torch.long)\n",
    "y_test = torch.tensor(y_test, dtype = torch.long)\n"
   ]
  },
  {
   "cell_type": "code",
   "execution_count": 14,
   "metadata": {},
   "outputs": [],
   "source": [
    "class Net(nn.Module):\n",
    "    # Defining shape and activation functions of the network\n",
    "    \n",
    "    def __init__(self):\n",
    "        super(Net, self).__init__()\n",
    "        self.fc1 = nn.Linear(561, 100)\n",
    "        self.fc2 = nn.Linear(100, 6)\n",
    "        # Network with input layer (561 nodes), 1 hidden layer (100 nodes), and the output layer (6 nodes)\n",
    "        \n",
    "        \n",
    "        \n",
    "    def forward(self, x):\n",
    "        # All layers use a sigmoid activation function\n",
    "        x = torch.sigmoid(self.fc1(x))\n",
    "        x = self.fc2(x)\n",
    "        #return F.log_softmax(x, dim = 1)\n",
    "        return torch.sigmoid(x)\n",
    "net = Net()\n",
    "\n",
    "# Optimizer\n",
    "optimizer = torch.optim.Adam(net.parameters())\n",
    "\n",
    "# Loss Function\n",
    "criterion = nn.CrossEntropyLoss()\n",
    "\n",
    "# Maximum Epochs to train for\n",
    "nepochs = 20000\n",
    "train, target = X_train, y_train"
   ]
  },
  {
   "cell_type": "code",
   "execution_count": 15,
   "metadata": {},
   "outputs": [
    {
     "name": "stdout",
     "output_type": "stream",
     "text": [
      "Epoch  0 Loss  1.7948284149169922\n",
      "Predictions:  tensor([0, 0, 0, 0, 0, 0, 0, 0, 0, 0, 0, 0, 0, 0, 0, 0, 0, 0, 0, 0])\n",
      "Real :        tensor([3, 0, 2, 1, 0, 0, 3, 0, 2, 0, 1, 4, 4, 2, 3, 3, 2, 2, 3, 0])\n",
      "Training accuracy is  0.1884937492414128\n",
      "Epoch  1000 Loss  1.0990431308746338\n",
      "Predictions:  tensor([3, 2, 2, 1, 2, 2, 3, 2, 2, 2, 1, 4, 4, 2, 3, 3, 2, 2, 3, 2])\n",
      "Real :        tensor([3, 0, 2, 1, 0, 0, 3, 0, 2, 0, 1, 4, 4, 2, 3, 3, 2, 2, 3, 0])\n",
      "Training accuracy is  0.8312902051219808\n",
      "Epoch  2000 Loss  1.0870064496994019\n",
      "Predictions:  tensor([3, 0, 2, 1, 0, 2, 3, 0, 2, 0, 1, 4, 4, 2, 3, 3, 2, 2, 3, 0])\n",
      "Real :        tensor([3, 0, 2, 1, 0, 0, 3, 0, 2, 0, 1, 4, 4, 2, 3, 3, 2, 2, 3, 0])\n",
      "Training accuracy is  0.9168588420924869\n",
      "Epoch  3000 Loss  1.0509989261627197\n",
      "Predictions:  tensor([3, 0, 2, 1, 0, 0, 3, 0, 2, 0, 1, 4, 4, 2, 3, 3, 2, 2, 3, 0])\n",
      "Real :        tensor([3, 0, 2, 1, 0, 0, 3, 0, 2, 0, 1, 4, 4, 2, 3, 3, 2, 2, 3, 0])\n",
      "Training accuracy is  0.9919893190921228\n",
      "Epoch  4000 Loss  1.0465068817138672\n",
      "Predictions:  tensor([3, 0, 2, 1, 0, 0, 3, 0, 2, 0, 1, 4, 4, 2, 3, 3, 2, 2, 3, 0])\n",
      "Real :        tensor([3, 0, 2, 1, 0, 0, 3, 0, 2, 0, 1, 4, 4, 2, 3, 3, 2, 2, 3, 0])\n",
      "Training accuracy is  0.9981793907027552\n",
      "Epoch  5000 Loss  1.0446569919586182\n",
      "Predictions:  tensor([3, 0, 2, 1, 0, 0, 3, 0, 2, 0, 1, 4, 4, 2, 3, 3, 2, 2, 3, 0])\n",
      "Real :        tensor([3, 0, 2, 1, 0, 0, 3, 0, 2, 0, 1, 4, 4, 2, 3, 3, 2, 2, 3, 0])\n",
      "Training accuracy is  0.999635878140551\n"
     ]
    }
   ],
   "source": [
    "# run the main training loop\n",
    "for epoch in range(nepochs):\n",
    "    optimizer.zero_grad()\n",
    "    # forward propagate\n",
    "    net_out = net(train)\n",
    "    # compute loss\n",
    "    loss = criterion(net_out.squeeze(), target)\n",
    "    # backpropagate\n",
    "    loss.backward()\n",
    "    # update parameters\n",
    "    optimizer.step()\n",
    "    # print out report\n",
    "    if epoch % 1000 == 0:\n",
    "        print('Epoch ', epoch, 'Loss ', loss.item())\n",
    "        net_out = net(train)\n",
    "        pred = net_out.data.squeeze()\n",
    "        _, pred_i = torch.max(pred, 1)\n",
    "        correctidx = pred_i.eq(target) \n",
    "        print('Predictions: ', pred_i[40:60])\n",
    "        print('Real :       ', target[40:60])\n",
    "        ncorrect = correctidx.sum()\n",
    "        accuracy = ncorrect.item()/len(y_train)\n",
    "        print('Training accuracy is ', accuracy)\n",
    "        if accuracy >= .999:\n",
    "            break\n"
   ]
  },
  {
   "cell_type": "code",
   "execution_count": 16,
   "metadata": {},
   "outputs": [
    {
     "name": "stdout",
     "output_type": "stream",
     "text": [
      "Accuracy is 0.999636\n"
     ]
    },
    {
     "data": {
      "image/png": "[encoded data removed]",
      "text/plain": [
       "<Figure size 432x288 with 2 Axes>"
      ]
     },
     "metadata": {
      "needs_background": "light"
     },
     "output_type": "display_data"
    }
   ],
   "source": [
    "# Evaluating the Results\n",
    "# ======================\n",
    "# Code Snippet from Project 2.1 of DSC 275, provided by Ajay Anand and Edgar Bernal\n",
    "# Edited to work with current network\n",
    "\n",
    "# Keep track of correct guesses in a confusion matrix\n",
    "confusion = torch.zeros(6, 6)\n",
    "\n",
    "# Code for evaluating the model's accuracy on every datapoint\n",
    "for i in range(len(y_train)):\n",
    "    point, label = X_train[i], y_train[i]\n",
    "    output = net(point)\n",
    "    _, category = torch.max(output, 0)\n",
    "    confusion[label.item()][category.item()] += 1\n",
    "\n",
    "    \n",
    "accuracy = sum(confusion.diag())/sum(sum(confusion))\n",
    "print('Accuracy is %f' % accuracy.item())\n",
    "\n",
    "# Normalize by dividing every row by its sum\n",
    "for i in range(6):\n",
    "    confusion[i] = confusion[i] / confusion[i].sum()\n",
    "\n",
    "# Classification \n",
    "fig = plt.figure()\n",
    "ax = fig.add_subplot(111)\n",
    "cax = ax.matshow(confusion.numpy())\n",
    "fig.colorbar(cax)\n",
    "\n",
    "# Set up axes\n",
    "ax.set_xticklabels([''] + Labels, rotation=90)\n",
    "ax.set_yticklabels([''] + Labels)\n",
    "\n",
    "# Force label at every tick\n",
    "ax.xaxis.set_major_locator(ticker.MultipleLocator(1))\n",
    "ax.yaxis.set_major_locator(ticker.MultipleLocator(1))\n",
    "\n",
    "# sphinx_gallery_thumbnail_number = 2\n",
    "plt.show()"
   ]
  },
  {
   "cell_type": "code",
   "execution_count": 19,
   "metadata": {},
   "outputs": [
    {
     "name": "stdout",
     "output_type": "stream",
     "text": [
      "Predictions:  tensor([3, 4, 1, 4, 3, 3, 5, 2, 2, 2, 0, 2, 3, 0, 5, 3, 3, 4, 3, 3])\n",
      "Real :        tensor([3, 0, 2, 1, 0, 0, 3, 0, 2, 0, 1, 4, 4, 2, 3, 3, 2, 2, 3, 0])\n",
      "Testing accuracy is  0.9893203883495145\n",
      "Only  22  classifications incorrect out of  2060  predictions.\n"
     ]
    }
   ],
   "source": [
    "#Find Accuracy on Testing Data\n",
    "net_out = net(X_test)\n",
    "pred = net_out.data.squeeze()\n",
    "_, pred_i = torch.max(pred, 1)\n",
    "#print('len of pred_i', len(pred_i))\n",
    "correctidx = pred_i.eq(y_test) \n",
    "print('Predictions: ', pred_i[40:60])\n",
    "print('Real :       ', target[40:60])\n",
    "ncorrect = correctidx.sum()\n",
    "accuracy = ncorrect.item()/len(y_test)\n",
    "print('Testing accuracy is ', accuracy)\n",
    "wrong = len(y_test)-ncorrect\n",
    "print(\"Only \", wrong.item(), \" classifications incorrect out of \", len(y_test), \" predictions.\")"
   ]
  },
  {
   "cell_type": "code",
   "execution_count": null,
   "metadata": {},
   "outputs": [],
   "source": []
  }
 ],
 "metadata": {
  "kernelspec": {
   "display_name": "Python 3 (anaconda3 5.3.0)",
   "language": "python",
   "name": "anaconda3-5.3.0"
  },
  "language_info": {
   "codemirror_mode": {
    "name": "ipython",
    "version": 3
   },
   "file_extension": ".py",
   "mimetype": "text/x-python",
   "name": "python",
   "nbconvert_exporter": "python",
   "pygments_lexer": "ipython3",
   "version": "3.7.0"
  }
 },
 "nbformat": 4,
 "nbformat_minor": 2
}
